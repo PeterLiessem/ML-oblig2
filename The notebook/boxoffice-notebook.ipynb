{
  "nbformat": 4,
  "nbformat_minor": 0,
  "metadata": {
    "kernelspec": {
      "name": "python3",
      "display_name": "Python 3"
    },
    "colab": {
      "name": "boxoffice.ipynb",
      "provenance": [],
      "collapsed_sections": [],
      "toc_visible": true
    }
  },
  "cells": [
    {
      "cell_type": "markdown",
      "metadata": {
        "id": "rm_Ln6feKWEV"
      },
      "source": [
        "#**Second mandatory assignment - TMDB Box Office prediction**"
      ]
    },
    {
      "cell_type": "code",
      "metadata": {
        "id": "RxOX5GQz7h4u"
      },
      "source": [
        "%matplotlib inline\n",
        "import numpy as np \n",
        "import pandas as pd\n",
        "import matplotlib.pyplot as plt\n",
        "import seaborn as sns\n",
        "import ast\n"
      ],
      "execution_count": 17,
      "outputs": []
    },
    {
      "cell_type": "markdown",
      "metadata": {
        "id": "7cufPqdK593P"
      },
      "source": [
        "##Through this project we will be using the same eight steps which was used in Appendix B:\n",
        "\n",
        "1. Looking at the bigger picture.\n",
        "2. Getting the data\n",
        "3. Discover and vizualize the data to gain insights\n",
        "4. Prepare the data for ML algorithms.\n",
        "5. Selecting a model and train it.\n",
        "6. Fine-tuning our model.\n",
        "7. Presenting our solution.\n",
        "8. Launching, monitor and maintaining our system.\n",
        "---"
      ]
    },
    {
      "cell_type": "markdown",
      "metadata": {
        "id": "TRsTMbFV0Ywk"
      },
      "source": [
        "\n",
        "# **1 : Frame the problem and look at the big picture**"
      ]
    },
    {
      "cell_type": "markdown",
      "metadata": {
        "id": "bOQ_-g8vsnWo"
      },
      "source": [
        "\n",
        "\n",
        "In this project we will be using the metadata we gotten from Kaggle to create a model. which will be used to predict a movie's worldwide box office revenue. The data presents a vast variety of features, such as cast, crew, plot keywords, budget, posters, release dates, languages and much to more. \n",
        "\n",
        "After making a successful model we will be using \"Flask\", which is a popular Python web framework, to deploy the model and make it available online.\n",
        "\n",
        "---\n",
        "\n"
      ]
    },
    {
      "cell_type": "markdown",
      "metadata": {
        "id": "5P_GBptcsoT3"
      },
      "source": [
        "# **2 : Get the data**\n"
      ]
    },
    {
      "cell_type": "code",
      "metadata": {
        "id": "n5ugzmSW7h4_"
      },
      "source": [
        "np.random.seed(42)\n",
        "\n",
        "#To avoid warnings\n",
        "def warn(*args, **kwargs):\n",
        "    pass\n",
        "import warnings\n",
        "warnings.warn = warn"
      ],
      "execution_count": 18,
      "outputs": []
    },
    {
      "cell_type": "code",
      "metadata": {
        "id": "Bdt1h_Jk7h5N"
      },
      "source": [
        "train = pd.read_csv('./boxoffice_data/train.csv')"
      ],
      "execution_count": 19,
      "outputs": []
    },
    {
      "cell_type": "code",
      "metadata": {
        "id": "vhyYm-SvU-Ok",
        "colab": {
          "base_uri": "https://localhost:8080/"
        },
        "outputId": "481603e7-c5df-46db-d7f2-e34e17adc01c"
      },
      "source": [
        "from sklearn.model_selection import train_test_split\n",
        "\n",
        "train, test = train_test_split(train, test_size=0.2, random_state = 30) #train[\"budget.cat\"]\n",
        "\n",
        "train.reset_index(inplace=True)\n",
        "test.reset_index(inplace=True)\n",
        "len(train), len(test)"
      ],
      "execution_count": 20,
      "outputs": [
        {
          "output_type": "execute_result",
          "data": {
            "text/plain": [
              "(2400, 600)"
            ]
          },
          "metadata": {
            "tags": []
          },
          "execution_count": 20
        }
      ]
    },
    {
      "cell_type": "markdown",
      "metadata": {
        "id": "hyVa0QfWsyOV"
      },
      "source": [
        "---\n",
        "# **3 : Explore the data to gain insights**"
      ]
    },
    {
      "cell_type": "code",
      "metadata": {
        "id": "gYj21iU_7h5a",
        "colab": {
          "base_uri": "https://localhost:8080/",
          "height": 584
        },
        "outputId": "d5807648-0dc1-423c-d85f-5e652a42c990"
      },
      "source": [
        "train.head()"
      ],
      "execution_count": 21,
      "outputs": [
        {
          "output_type": "execute_result",
          "data": {
            "text/html": [
              "<div>\n",
              "<style scoped>\n",
              "    .dataframe tbody tr th:only-of-type {\n",
              "        vertical-align: middle;\n",
              "    }\n",
              "\n",
              "    .dataframe tbody tr th {\n",
              "        vertical-align: top;\n",
              "    }\n",
              "\n",
              "    .dataframe thead th {\n",
              "        text-align: right;\n",
              "    }\n",
              "</style>\n",
              "<table border=\"1\" class=\"dataframe\">\n",
              "  <thead>\n",
              "    <tr style=\"text-align: right;\">\n",
              "      <th></th>\n",
              "      <th>index</th>\n",
              "      <th>id</th>\n",
              "      <th>belongs_to_collection</th>\n",
              "      <th>budget</th>\n",
              "      <th>genres</th>\n",
              "      <th>homepage</th>\n",
              "      <th>imdb_id</th>\n",
              "      <th>original_language</th>\n",
              "      <th>original_title</th>\n",
              "      <th>overview</th>\n",
              "      <th>popularity</th>\n",
              "      <th>poster_path</th>\n",
              "      <th>production_companies</th>\n",
              "      <th>production_countries</th>\n",
              "      <th>release_date</th>\n",
              "      <th>runtime</th>\n",
              "      <th>spoken_languages</th>\n",
              "      <th>status</th>\n",
              "      <th>tagline</th>\n",
              "      <th>title</th>\n",
              "      <th>Keywords</th>\n",
              "      <th>cast</th>\n",
              "      <th>crew</th>\n",
              "      <th>revenue</th>\n",
              "    </tr>\n",
              "  </thead>\n",
              "  <tbody>\n",
              "    <tr>\n",
              "      <th>0</th>\n",
              "      <td>787</td>\n",
              "      <td>788</td>\n",
              "      <td>NaN</td>\n",
              "      <td>1601792</td>\n",
              "      <td>[{'id': 18, 'name': 'Drama'}]</td>\n",
              "      <td>NaN</td>\n",
              "      <td>tt0387055</td>\n",
              "      <td>es</td>\n",
              "      <td>Batalla en el cielo</td>\n",
              "      <td>Set in Mexico City, Carlos Reygadas's sexually...</td>\n",
              "      <td>2.329513</td>\n",
              "      <td>/f9MhoEiIHxtyrcCCt8v0RbzLhjQ.jpg</td>\n",
              "      <td>[{'name': 'Mantarraya Producciones', 'id': 863...</td>\n",
              "      <td>[{'iso_3166_1': 'MX', 'name': 'Mexico'}, {'iso...</td>\n",
              "      <td>5/15/05</td>\n",
              "      <td>96.0</td>\n",
              "      <td>[{'iso_639_1': 'es', 'name': 'Español'}]</td>\n",
              "      <td>Released</td>\n",
              "      <td>NaN</td>\n",
              "      <td>Battle in Heaven</td>\n",
              "      <td>[{'id': 572, 'name': 'sex'}, {'id': 190370, 'n...</td>\n",
              "      <td>[{'cast_id': 3, 'character': 'Marcos', 'credit...</td>\n",
              "      <td>[{'credit_id': '52fe47139251416c7508cfe3', 'de...</td>\n",
              "      <td>253527</td>\n",
              "    </tr>\n",
              "    <tr>\n",
              "      <th>1</th>\n",
              "      <td>2188</td>\n",
              "      <td>2189</td>\n",
              "      <td>NaN</td>\n",
              "      <td>5000000</td>\n",
              "      <td>[{'id': 35, 'name': 'Comedy'}, {'id': 80, 'nam...</td>\n",
              "      <td>NaN</td>\n",
              "      <td>tt0120906</td>\n",
              "      <td>en</td>\n",
              "      <td>Zero Effect</td>\n",
              "      <td>Daryl Zero is a private investigator. Along wi...</td>\n",
              "      <td>3.621052</td>\n",
              "      <td>/qmgUyhyJQwHzZ7ulaYCJLBon7gG.jpg</td>\n",
              "      <td>[{'name': 'Castle Rock Entertainment', 'id': 9...</td>\n",
              "      <td>[{'iso_3166_1': 'US', 'name': 'United States o...</td>\n",
              "      <td>1/30/98</td>\n",
              "      <td>116.0</td>\n",
              "      <td>[{'iso_639_1': 'en', 'name': 'English'}]</td>\n",
              "      <td>Released</td>\n",
              "      <td>The world's most private detective.</td>\n",
              "      <td>Zero Effect</td>\n",
              "      <td>[{'id': 703, 'name': 'detective'}, {'id': 1936...</td>\n",
              "      <td>[{'cast_id': 1, 'character': 'Daryl Zero', 'cr...</td>\n",
              "      <td>[{'credit_id': '55528587c3a368426f005400', 'de...</td>\n",
              "      <td>1980338</td>\n",
              "    </tr>\n",
              "    <tr>\n",
              "      <th>2</th>\n",
              "      <td>1287</td>\n",
              "      <td>1288</td>\n",
              "      <td>NaN</td>\n",
              "      <td>700000</td>\n",
              "      <td>[{'id': 18, 'name': 'Drama'}, {'id': 10749, 'n...</td>\n",
              "      <td>NaN</td>\n",
              "      <td>tt0022958</td>\n",
              "      <td>en</td>\n",
              "      <td>Grand Hotel</td>\n",
              "      <td>Guests at a posh Berlin hotel struggle through...</td>\n",
              "      <td>11.118844</td>\n",
              "      <td>/2j7dxqIlGHdTaaUW9s4Z5zfp9qS.jpg</td>\n",
              "      <td>[{'name': 'Metro-Goldwyn-Mayer (MGM)', 'id': 8...</td>\n",
              "      <td>[{'iso_3166_1': 'US', 'name': 'United States o...</td>\n",
              "      <td>5/25/32</td>\n",
              "      <td>112.0</td>\n",
              "      <td>[{'iso_639_1': 'en', 'name': 'English'}]</td>\n",
              "      <td>Released</td>\n",
              "      <td>Thank The Stars For A Great Entertainment !</td>\n",
              "      <td>Grand Hotel</td>\n",
              "      <td>[{'id': 612, 'name': 'hotel'}, {'id': 1317, 'n...</td>\n",
              "      <td>[{'cast_id': 1, 'character': 'Grusinskaya', 'c...</td>\n",
              "      <td>[{'credit_id': '52fe452f9251416c9102a2d3', 'de...</td>\n",
              "      <td>2594000</td>\n",
              "    </tr>\n",
              "    <tr>\n",
              "      <th>3</th>\n",
              "      <td>2129</td>\n",
              "      <td>2130</td>\n",
              "      <td>NaN</td>\n",
              "      <td>0</td>\n",
              "      <td>[{'id': 18, 'name': 'Drama'}]</td>\n",
              "      <td>NaN</td>\n",
              "      <td>tt1992156</td>\n",
              "      <td>it</td>\n",
              "      <td>Il futuro</td>\n",
              "      <td>When their parents die, Bianca starts to smoke...</td>\n",
              "      <td>1.051148</td>\n",
              "      <td>/6621plCrlLbjV5LfFOs3MPV217N.jpg</td>\n",
              "      <td>NaN</td>\n",
              "      <td>NaN</td>\n",
              "      <td>9/6/13</td>\n",
              "      <td>94.0</td>\n",
              "      <td>[{'iso_639_1': 'en', 'name': 'English'}, {'iso...</td>\n",
              "      <td>Released</td>\n",
              "      <td>NaN</td>\n",
              "      <td>The Future</td>\n",
              "      <td>[{'id': 187056, 'name': 'woman director'}]</td>\n",
              "      <td>[{'cast_id': 4, 'character': 'Bianca', 'credit...</td>\n",
              "      <td>[{'credit_id': '52fe4b4c9251416c910d6059', 'de...</td>\n",
              "      <td>13983</td>\n",
              "    </tr>\n",
              "    <tr>\n",
              "      <th>4</th>\n",
              "      <td>1174</td>\n",
              "      <td>1175</td>\n",
              "      <td>NaN</td>\n",
              "      <td>0</td>\n",
              "      <td>[{'id': 14, 'name': 'Fantasy'}, {'id': 18, 'na...</td>\n",
              "      <td>http://doriangraymovie.co.uk/</td>\n",
              "      <td>tt1235124</td>\n",
              "      <td>en</td>\n",
              "      <td>Dorian Gray</td>\n",
              "      <td>A vain London playboy offers his soul in excha...</td>\n",
              "      <td>11.069608</td>\n",
              "      <td>/tL0JgGir10RFXZ1M0H3TgyrGdtp.jpg</td>\n",
              "      <td>[{'name': 'Ealing Studios', 'id': 2650}, {'nam...</td>\n",
              "      <td>[{'iso_3166_1': 'GB', 'name': 'United Kingdom'}]</td>\n",
              "      <td>9/9/09</td>\n",
              "      <td>112.0</td>\n",
              "      <td>[{'iso_639_1': 'en', 'name': 'English'}, {'iso...</td>\n",
              "      <td>Released</td>\n",
              "      <td>Forever Young. Forever Cursed.</td>\n",
              "      <td>Dorian Gray</td>\n",
              "      <td>NaN</td>\n",
              "      <td>[{'cast_id': 3, 'character': 'Dorian Gray', 'c...</td>\n",
              "      <td>[{'credit_id': '53ecb3e50e0a2605f10015bb', 'de...</td>\n",
              "      <td>4706919</td>\n",
              "    </tr>\n",
              "  </tbody>\n",
              "</table>\n",
              "</div>"
            ],
            "text/plain": [
              "   index    id  ...                                               crew  revenue\n",
              "0    787   788  ...  [{'credit_id': '52fe47139251416c7508cfe3', 'de...   253527\n",
              "1   2188  2189  ...  [{'credit_id': '55528587c3a368426f005400', 'de...  1980338\n",
              "2   1287  1288  ...  [{'credit_id': '52fe452f9251416c9102a2d3', 'de...  2594000\n",
              "3   2129  2130  ...  [{'credit_id': '52fe4b4c9251416c910d6059', 'de...    13983\n",
              "4   1174  1175  ...  [{'credit_id': '53ecb3e50e0a2605f10015bb', 'de...  4706919\n",
              "\n",
              "[5 rows x 24 columns]"
            ]
          },
          "metadata": {
            "tags": []
          },
          "execution_count": 21
        }
      ]
    },
    {
      "cell_type": "code",
      "metadata": {
        "id": "xgqDebkt7h5o",
        "colab": {
          "base_uri": "https://localhost:8080/"
        },
        "outputId": "00a3f01f-1d1d-4ba0-af58-084579c36928"
      },
      "source": [
        "train.info()"
      ],
      "execution_count": 22,
      "outputs": [
        {
          "output_type": "stream",
          "text": [
            "<class 'pandas.core.frame.DataFrame'>\n",
            "RangeIndex: 2400 entries, 0 to 2399\n",
            "Data columns (total 24 columns):\n",
            " #   Column                 Non-Null Count  Dtype  \n",
            "---  ------                 --------------  -----  \n",
            " 0   index                  2400 non-null   int64  \n",
            " 1   id                     2400 non-null   int64  \n",
            " 2   belongs_to_collection  486 non-null    object \n",
            " 3   budget                 2400 non-null   int64  \n",
            " 4   genres                 2394 non-null   object \n",
            " 5   homepage               778 non-null    object \n",
            " 6   imdb_id                2400 non-null   object \n",
            " 7   original_language      2400 non-null   object \n",
            " 8   original_title         2400 non-null   object \n",
            " 9   overview               2396 non-null   object \n",
            " 10  popularity             2400 non-null   float64\n",
            " 11  poster_path            2399 non-null   object \n",
            " 12  production_companies   2281 non-null   object \n",
            " 13  production_countries   2355 non-null   object \n",
            " 14  release_date           2400 non-null   object \n",
            " 15  runtime                2398 non-null   float64\n",
            " 16  spoken_languages       2386 non-null   object \n",
            " 17  status                 2400 non-null   object \n",
            " 18  tagline                1925 non-null   object \n",
            " 19  title                  2400 non-null   object \n",
            " 20  Keywords               2182 non-null   object \n",
            " 21  cast                   2391 non-null   object \n",
            " 22  crew                   2388 non-null   object \n",
            " 23  revenue                2400 non-null   int64  \n",
            "dtypes: float64(2), int64(4), object(18)\n",
            "memory usage: 450.1+ KB\n"
          ],
          "name": "stdout"
        }
      ]
    },
    {
      "cell_type": "markdown",
      "metadata": {
        "id": "8viCvNRgK9Ni"
      },
      "source": [
        "This list above gives us a insight of every attributes involved in the training set, and as you can see, the attributes have different types, such as objects, int and float. "
      ]
    },
    {
      "cell_type": "code",
      "metadata": {
        "id": "9bV3nDty7h59",
        "colab": {
          "base_uri": "https://localhost:8080/"
        },
        "outputId": "a9b70bf2-59ce-42df-903c-2a24254fa791"
      },
      "source": [
        "corr_matrix = train.corr()\n",
        "corr_matrix[\"revenue\"].sort_values(ascending=False)"
      ],
      "execution_count": 23,
      "outputs": [
        {
          "output_type": "execute_result",
          "data": {
            "text/plain": [
              "revenue       1.000000\n",
              "budget        0.744188\n",
              "popularity    0.475910\n",
              "runtime       0.219200\n",
              "id            0.002098\n",
              "index         0.002098\n",
              "Name: revenue, dtype: float64"
            ]
          },
          "metadata": {
            "tags": []
          },
          "execution_count": 23
        }
      ]
    },
    {
      "cell_type": "code",
      "metadata": {
        "id": "flBYY8F17h6L",
        "colab": {
          "base_uri": "https://localhost:8080/",
          "height": 287
        },
        "outputId": "663faeae-bcb2-4496-e556-a74cea49ed18"
      },
      "source": [
        "train.describe()"
      ],
      "execution_count": 24,
      "outputs": [
        {
          "output_type": "execute_result",
          "data": {
            "text/html": [
              "<div>\n",
              "<style scoped>\n",
              "    .dataframe tbody tr th:only-of-type {\n",
              "        vertical-align: middle;\n",
              "    }\n",
              "\n",
              "    .dataframe tbody tr th {\n",
              "        vertical-align: top;\n",
              "    }\n",
              "\n",
              "    .dataframe thead th {\n",
              "        text-align: right;\n",
              "    }\n",
              "</style>\n",
              "<table border=\"1\" class=\"dataframe\">\n",
              "  <thead>\n",
              "    <tr style=\"text-align: right;\">\n",
              "      <th></th>\n",
              "      <th>index</th>\n",
              "      <th>id</th>\n",
              "      <th>budget</th>\n",
              "      <th>popularity</th>\n",
              "      <th>runtime</th>\n",
              "      <th>revenue</th>\n",
              "    </tr>\n",
              "  </thead>\n",
              "  <tbody>\n",
              "    <tr>\n",
              "      <th>count</th>\n",
              "      <td>2400.000000</td>\n",
              "      <td>2400.000000</td>\n",
              "      <td>2.400000e+03</td>\n",
              "      <td>2400.000000</td>\n",
              "      <td>2398.000000</td>\n",
              "      <td>2.400000e+03</td>\n",
              "    </tr>\n",
              "    <tr>\n",
              "      <th>mean</th>\n",
              "      <td>1494.988333</td>\n",
              "      <td>1495.988333</td>\n",
              "      <td>2.223625e+07</td>\n",
              "      <td>8.439106</td>\n",
              "      <td>108.500834</td>\n",
              "      <td>6.644129e+07</td>\n",
              "    </tr>\n",
              "    <tr>\n",
              "      <th>std</th>\n",
              "      <td>874.553421</td>\n",
              "      <td>874.553421</td>\n",
              "      <td>3.685739e+07</td>\n",
              "      <td>11.502857</td>\n",
              "      <td>21.991233</td>\n",
              "      <td>1.387857e+08</td>\n",
              "    </tr>\n",
              "    <tr>\n",
              "      <th>min</th>\n",
              "      <td>0.000000</td>\n",
              "      <td>1.000000</td>\n",
              "      <td>0.000000e+00</td>\n",
              "      <td>0.000308</td>\n",
              "      <td>0.000000</td>\n",
              "      <td>1.000000e+00</td>\n",
              "    </tr>\n",
              "    <tr>\n",
              "      <th>25%</th>\n",
              "      <td>724.750000</td>\n",
              "      <td>725.750000</td>\n",
              "      <td>0.000000e+00</td>\n",
              "      <td>4.026235</td>\n",
              "      <td>95.000000</td>\n",
              "      <td>2.299373e+06</td>\n",
              "    </tr>\n",
              "    <tr>\n",
              "      <th>50%</th>\n",
              "      <td>1510.500000</td>\n",
              "      <td>1511.500000</td>\n",
              "      <td>7.500000e+06</td>\n",
              "      <td>7.291372</td>\n",
              "      <td>105.000000</td>\n",
              "      <td>1.663011e+07</td>\n",
              "    </tr>\n",
              "    <tr>\n",
              "      <th>75%</th>\n",
              "      <td>2261.250000</td>\n",
              "      <td>2262.250000</td>\n",
              "      <td>2.800000e+07</td>\n",
              "      <td>10.900796</td>\n",
              "      <td>118.750000</td>\n",
              "      <td>6.837989e+07</td>\n",
              "    </tr>\n",
              "    <tr>\n",
              "      <th>max</th>\n",
              "      <td>2999.000000</td>\n",
              "      <td>3000.000000</td>\n",
              "      <td>3.800000e+08</td>\n",
              "      <td>287.253654</td>\n",
              "      <td>338.000000</td>\n",
              "      <td>1.519558e+09</td>\n",
              "    </tr>\n",
              "  </tbody>\n",
              "</table>\n",
              "</div>"
            ],
            "text/plain": [
              "             index           id  ...      runtime       revenue\n",
              "count  2400.000000  2400.000000  ...  2398.000000  2.400000e+03\n",
              "mean   1494.988333  1495.988333  ...   108.500834  6.644129e+07\n",
              "std     874.553421   874.553421  ...    21.991233  1.387857e+08\n",
              "min       0.000000     1.000000  ...     0.000000  1.000000e+00\n",
              "25%     724.750000   725.750000  ...    95.000000  2.299373e+06\n",
              "50%    1510.500000  1511.500000  ...   105.000000  1.663011e+07\n",
              "75%    2261.250000  2262.250000  ...   118.750000  6.837989e+07\n",
              "max    2999.000000  3000.000000  ...   338.000000  1.519558e+09\n",
              "\n",
              "[8 rows x 6 columns]"
            ]
          },
          "metadata": {
            "tags": []
          },
          "execution_count": 24
        }
      ]
    },
    {
      "cell_type": "code",
      "metadata": {
        "id": "0BwEa3q17h6Y",
        "colab": {
          "base_uri": "https://localhost:8080/"
        },
        "outputId": "042dac19-dce6-461e-fccf-fff4a16d4d49"
      },
      "source": [
        "train.isna().sum()"
      ],
      "execution_count": 25,
      "outputs": [
        {
          "output_type": "execute_result",
          "data": {
            "text/plain": [
              "index                       0\n",
              "id                          0\n",
              "belongs_to_collection    1914\n",
              "budget                      0\n",
              "genres                      6\n",
              "homepage                 1622\n",
              "imdb_id                     0\n",
              "original_language           0\n",
              "original_title              0\n",
              "overview                    4\n",
              "popularity                  0\n",
              "poster_path                 1\n",
              "production_companies      119\n",
              "production_countries       45\n",
              "release_date                0\n",
              "runtime                     2\n",
              "spoken_languages           14\n",
              "status                      0\n",
              "tagline                   475\n",
              "title                       0\n",
              "Keywords                  218\n",
              "cast                        9\n",
              "crew                       12\n",
              "revenue                     0\n",
              "dtype: int64"
            ]
          },
          "metadata": {
            "tags": []
          },
          "execution_count": 25
        }
      ]
    },
    {
      "cell_type": "markdown",
      "metadata": {
        "id": "jQOafq0V6iSJ"
      },
      "source": [
        "The list above provides an overview of NAN/Missing values in train. These values are making it harder to give good predictions, if it is not handled corretly. "
      ]
    },
    {
      "cell_type": "code",
      "metadata": {
        "id": "ekw8n76R7h6j",
        "colab": {
          "base_uri": "https://localhost:8080/",
          "height": 804
        },
        "outputId": "d8e56ec1-2d68-4170-e590-6c03337e6eca"
      },
      "source": [
        "attributes = [\"revenue\", \"popularity\", \"budget\",\n",
        " \"runtime\"]\n",
        "pd.plotting.scatter_matrix(train[attributes], figsize=(12, 8))"
      ],
      "execution_count": 26,
      "outputs": [
        {
          "output_type": "execute_result",
          "data": {
            "text/plain": [
              "array([[<matplotlib.axes._subplots.AxesSubplot object at 0x7fddc61fa860>,\n",
              "        <matplotlib.axes._subplots.AxesSubplot object at 0x7fddc6618a20>,\n",
              "        <matplotlib.axes._subplots.AxesSubplot object at 0x7fddc66c0320>,\n",
              "        <matplotlib.axes._subplots.AxesSubplot object at 0x7fddc689d278>],\n",
              "       [<matplotlib.axes._subplots.AxesSubplot object at 0x7fddc6971a90>,\n",
              "        <matplotlib.axes._subplots.AxesSubplot object at 0x7fddc729c7b8>,\n",
              "        <matplotlib.axes._subplots.AxesSubplot object at 0x7fddc6a846a0>,\n",
              "        <matplotlib.axes._subplots.AxesSubplot object at 0x7fddc69a9320>],\n",
              "       [<matplotlib.axes._subplots.AxesSubplot object at 0x7fddc69a95f8>,\n",
              "        <matplotlib.axes._subplots.AxesSubplot object at 0x7fddbe8ad128>,\n",
              "        <matplotlib.axes._subplots.AxesSubplot object at 0x7fddbe85b390>,\n",
              "        <matplotlib.axes._subplots.AxesSubplot object at 0x7fddbe8885f8>],\n",
              "       [<matplotlib.axes._subplots.AxesSubplot object at 0x7fddbe837860>,\n",
              "        <matplotlib.axes._subplots.AxesSubplot object at 0x7fddbe7e5ac8>,\n",
              "        <matplotlib.axes._subplots.AxesSubplot object at 0x7fddbe794d30>,\n",
              "        <matplotlib.axes._subplots.AxesSubplot object at 0x7fddbe7c8f98>]],\n",
              "      dtype=object)"
            ]
          },
          "metadata": {
            "tags": []
          },
          "execution_count": 26
        },
        {
          "output_type": "display_data",
          "data": {
            "image/png": "[encoded data removed]",
            "text/plain": [
              "<Figure size 864x576 with 16 Axes>"
            ]
          },
          "metadata": {
            "tags": [],
            "needs_background": "light"
          }
        }
      ]
    },
    {
      "cell_type": "code",
      "metadata": {
        "id": "ZUwpmoli7h6u",
        "colab": {
          "base_uri": "https://localhost:8080/",
          "height": 743
        },
        "outputId": "f09c0131-e14a-4a2a-ac38-993170464cb1"
      },
      "source": [
        "sns.pairplot(train[[\"budget\",\"revenue\", \"popularity\", \"runtime\"]])"
      ],
      "execution_count": 27,
      "outputs": [
        {
          "output_type": "execute_result",
          "data": {
            "text/plain": [
              "<seaborn.axisgrid.PairGrid at 0x7fddceaf4da0>"
            ]
          },
          "metadata": {
            "tags": []
          },
          "execution_count": 27
        },
        {
          "output_type": "display_data",
          "data": {
            "image/png": "[encoded data removed]",
            "text/plain": [
              "<Figure size 720x720 with 20 Axes>"
            ]
          },
          "metadata": {
            "tags": [],
            "needs_background": "light"
          }
        }
      ]
    },
    {
      "cell_type": "code",
      "metadata": {
        "id": "-4gwMD3k7h64"
      },
      "source": [
        "df = train.copy()\n",
        "X_train=train.drop(\"revenue\", axis=1)\n",
        "y_train=train[\"revenue\"]"
      ],
      "execution_count": 28,
      "outputs": []
    },
    {
      "cell_type": "code",
      "metadata": {
        "id": "Q4q2Iu6fxcXb",
        "colab": {
          "base_uri": "https://localhost:8080/"
        },
        "outputId": "9ad4a496-9a74-4335-b969-bef879204acd"
      },
      "source": [
        "X_train.columns"
      ],
      "execution_count": 29,
      "outputs": [
        {
          "output_type": "execute_result",
          "data": {
            "text/plain": [
              "Index(['index', 'id', 'belongs_to_collection', 'budget', 'genres', 'homepage',\n",
              "       'imdb_id', 'original_language', 'original_title', 'overview',\n",
              "       'popularity', 'poster_path', 'production_companies',\n",
              "       'production_countries', 'release_date', 'runtime', 'spoken_languages',\n",
              "       'status', 'tagline', 'title', 'Keywords', 'cast', 'crew'],\n",
              "      dtype='object')"
            ]
          },
          "metadata": {
            "tags": []
          },
          "execution_count": 29
        }
      ]
    },
    {
      "cell_type": "markdown",
      "metadata": {
        "id": "doxasuBms4EA"
      },
      "source": [
        "---\n",
        "# **4 : Prepare the data to better expose the underlying data patterns to machine learning algorithms**"
      ]
    },
    {
      "cell_type": "code",
      "metadata": {
        "id": "3lWCCYtP7h72"
      },
      "source": [
        "from sklearn.base import BaseEstimator, TransformerMixin\n",
        "\n",
        "class fix_features(BaseEstimator, TransformerMixin):\n",
        "  def __init__(self):\n",
        "        return\n",
        "  def fit(self, X, y=None):\n",
        "        return self\n",
        "  def transform(self, X, y=None):\n",
        "        features_to_fix=[\"belongs_to_collection\", \"genres\", \"production_companies\", \"production_countries\",\\\n",
        "                        \"Keywords\"]\n",
        "\n",
        "        for feature in features_to_fix:\n",
        "            X.loc[X[feature].notnull(),feature]=\\\n",
        "            X.loc[X[feature].notnull(),feature].apply(lambda x : ast.literal_eval(x))\\\n",
        "            .apply(lambda x : [y[\"name\"] for y in x])\n",
        "        return X\n",
        "\n",
        "class jsonish_to_list(BaseEstimator, TransformerMixin):\n",
        "  def __init__(self):\n",
        "        return\n",
        "  def fit(self, X, y=None):\n",
        "        return self\n",
        "  def transform(self, X, y=None):\n",
        "        X.loc[X[\"cast\"].notnull(),\"cast\"]=X.loc[X[\"cast\"].notnull(),\"cast\"].apply(lambda x : ast.literal_eval(x))\n",
        "        X.loc[X[\"crew\"].notnull(),\"crew\"]=X.loc[X[\"crew\"].notnull(),\"crew\"].apply(lambda x : ast.literal_eval(x))\n",
        "        return X\n",
        "\n",
        "# Used to make a column for each genre, and will give bool value 1 if the movie has the spesific genre and 0 \n",
        "# if it doesn't. \n",
        "class cat_to_bool(BaseEstimator, TransformerMixin):\n",
        "  def __init__(self):\n",
        "        return\n",
        "  def fit(self, X, y=None):\n",
        "        return self\n",
        "  def transform(self, X, y=None):\n",
        "\n",
        "  \n",
        "        X[\"genre_Comedy\"]=0\n",
        "        X[\"genre_Drama\"]=0\n",
        "        X[\"genre_Thriller\"]=0\n",
        "        X[\"genre_Action\"]=0\n",
        "        X[\"genre_Animation\"]=0\n",
        "        X[\"genre_Horror\"]=0\n",
        "        X[\"genre_Documentary\"]=0\n",
        "        X[\"genre_Adventure\"]=0\n",
        "        X[\"genre_Crime\"]=0\n",
        "        X[\"genre_Mystery\"]=0\n",
        "        X[\"genre_Fantasy\"]=0\n",
        "        X[\"genre_War\"]=0\n",
        "        X[\"genre_SF\"]=0\n",
        "        X[\"genre_Romance\"]=0\n",
        "        X[\"genre_Music\"]=0\n",
        "        X[\"genre_Western\"]=0\n",
        "        X[\"genre_Family\"]=0\n",
        "        X[\"genre_History\"]=0\n",
        "        X[\"genre_Foreign\"]=0\n",
        "        X[\"genre_TM\"]=0\n",
        "        for i in range(len(X)):\n",
        "          if isinstance(X[\"genres\"][i], list):\n",
        "            if \"Comedy\" in X[\"genres\"][i]:\n",
        "              X[\"genre_Comedy\"][i] = 1\n",
        "            if \"Drama\" in X[\"genres\"][i]:\n",
        "              X[\"genre_Drama\"][i]=1\n",
        "            if \"Thriller\" in X[\"genres\"][i]:\n",
        "              X[\"genre_Thriller\"][i]=1\n",
        "            if \"Action\" in X[\"genres\"][i]:\n",
        "              X[\"genre_Action\"][i]=1\n",
        "            if \"Animation\" in X[\"genres\"][i]:\n",
        "              X[\"genre_Animation\"][i]=1\n",
        "            if \"Horror\" in X[\"genres\"][i]:\n",
        "              X[\"genre_Horror\"][i]=1\n",
        "            if \"Documentary\" in X[\"genres\"][i]:\n",
        "              X[\"genre_Documentary\"][i]=1\n",
        "            if \"Adventure\" in X[\"genres\"][i]:\n",
        "              X[\"genre_Adventure\"][i]=1\n",
        "            if \"Crime\" in X[\"genres\"][i]:\n",
        "              X[\"genre_Crime\"][i]=1\n",
        "            if \"Mystery\" in X[\"genres\"][i]:\n",
        "              X[\"genre_Mystery\"][i]=1\n",
        "            if \"Fantasy\" in X[\"genres\"][i]:\n",
        "              X[\"genre_Fantasy\"][i]=1\n",
        "            if \"War\" in X[\"genres\"][i]:\n",
        "              X[\"genre_War\"][i]=1\n",
        "            if \"Science Fiction\" in X[\"genres\"][i]:\n",
        "              X[\"genre_SF\"][i]=1\n",
        "            if \"Romance\" in X[\"genres\"][i]:\n",
        "              X[\"genre_Romance\"][i]=1\n",
        "            if \"Music\" in X[\"genres\"][i]:\n",
        "              X[\"genre_Music\"][i]=1\n",
        "            if \"Western\" in X[\"genres\"][i]:\n",
        "              X[\"genre_Western\"][i]=1\n",
        "            if \"Family\" in X[\"genres\"][i]:\n",
        "              X[\"genre_Family\"][i]=1\n",
        "            if \"History\" in X[\"genres\"][i]:\n",
        "              X[\"genre_History\"][i]=1\n",
        "            if \"Foreign\" in X[\"genres\"][i]:\n",
        "              X[\"genre_Foreign\"][i]=1\n",
        "            if \"TV Movie\" in X[\"genres\"][i]:\n",
        "              X[\"genre_TM\"][i]=1\n",
        "      \n",
        "        X.loc[X[\"homepage\"].notnull(),\"homepage\"]=1\n",
        "        X[\"homepage\"]=X[\"homepage\"].fillna(0)\n",
        "          \n",
        "        X[\"in_collection\"]=1\n",
        "        X.loc[X[\"belongs_to_collection\"].isnull(),\"in_collection\"]=0\n",
        "\n",
        "        X[\"has_tagline\"]=1\n",
        "        X.loc[X[\"tagline\"].isnull(),\"has_tagline\"]=0\n",
        "\n",
        "        X[\"isReleased\"]=1\n",
        "        X.loc[X[\"status\"]!=\"Released\",\"isReleased\"]=0\n",
        "\n",
        "\n",
        "        return X\n",
        "\n",
        "# Used to split release_date into release_year, release_month, release_day, release_weekday and release_quarter\n",
        "class split_release_date(BaseEstimator, TransformerMixin):\n",
        "  def __init__(self):\n",
        "        return\n",
        "  def fit(self, X, y=None):\n",
        "        return self\n",
        "  def transform(self, X, y=None):\n",
        "        release_date=pd.to_datetime(X[\"release_date\"])\n",
        "        X[\"release_year\"]=release_date.dt.year\n",
        "        X[\"release_month\"]=release_date.dt.month\n",
        "        X[\"release_day\"]=release_date.dt.day\n",
        "        X[\"release_wd\"]=release_date.dt.dayofweek\n",
        "        X[\"release_quarter\"]=release_date.dt.quarter\n",
        "\n",
        "        return X\n",
        "\n",
        "class to_empty(BaseEstimator, TransformerMixin):\n",
        "  def __init__(self):\n",
        "        return\n",
        "  def fit(self, X, y=None):\n",
        "        return self\n",
        "  def transform(self, X, y=None): \n",
        "        to_empty_list=[\"belongs_to_collection\",\"Keywords\",\"production_companies\",\"production_countries\",\"cast\", \"genres\"] #Setter alle disse atributtene til den første verdien i listen.\n",
        "\n",
        "        for feature in to_empty_list:\n",
        "            X[feature] = X[feature].apply(lambda d: d[0] if isinstance(d, list) and d!=[] else 0)\n",
        "        \n",
        "        return X\n",
        "\n",
        "\n",
        "class to_zero(BaseEstimator, TransformerMixin):\n",
        "  def __init__(self):\n",
        "        return\n",
        "  def fit(self, X, y=None):\n",
        "        return self\n",
        "  def transform(self, X, y=None):\n",
        "        to_zero_list=[\"runtime\",\"release_month\",\"release_year\",\"release_wd\",\"release_quarter\",\"release_day\"]\n",
        "        for f in to_zero_list:\n",
        "            X[f]=X[f].fillna(0) \n",
        "        return X\n",
        "\n",
        "\n",
        "# Drops unnecessary attributes\n",
        "class dropAttribs(BaseEstimator, TransformerMixin):\n",
        "  def __init__(self):\n",
        "        return\n",
        "  def fit(self, X, y=None):\n",
        "        return self\n",
        "  def transform(self, X, y=None):\n",
        "        to_drop_list = [\"index\", \"original_title\", \"belongs_to_collection\", \"genres\", \"id\", \"isReleased\", \"imdb_id\",\"overview\",\"poster_path\",\"tagline\",\"status\",\"release_date\",\"spoken_languages\",\"crew\", \"cast\", \"poster_path\", \"belongs_to_collection\",\"original_language\", \"original_title\", \"production_companies\", \"production_countries\", \"title\", \"Keywords\"]\n",
        "        X = X.drop(to_drop_list,axis=1)\n",
        "        print(X.columns)\n",
        "        return X"
      ],
      "execution_count": 30,
      "outputs": []
    },
    {
      "cell_type": "code",
      "metadata": {
        "id": "ONZw24TaUs4h"
      },
      "source": [
        "def prepData(X):\n",
        "  df_t = fix_features()        .transform(X)\n",
        "  df_t = jsonish_to_list()     .transform(df_t)\n",
        "  df_t = cat_to_bool()         .transform(df_t)\n",
        "  df_t = split_release_date()  .transform(df_t)\n",
        "  df_t = to_empty()            .transform(df_t)\n",
        "  df_t = to_zero()             .transform(df_t)\n",
        "  df_t = dropAttribs()         .transform(df_t)\n",
        "  return pd.DataFrame(df_t)"
      ],
      "execution_count": 31,
      "outputs": []
    },
    {
      "cell_type": "code",
      "metadata": {
        "id": "w13y3eBh18T3",
        "colab": {
          "base_uri": "https://localhost:8080/"
        },
        "outputId": "d356fffb-9ef5-4ee7-ca79-14649515c59b"
      },
      "source": [
        "X_train2 = X_train.copy()\n",
        "train_prepared = prepData(X_train2)"
      ],
      "execution_count": 32,
      "outputs": [
        {
          "output_type": "stream",
          "text": [
            "Index(['budget', 'homepage', 'popularity', 'runtime', 'genre_Comedy',\n",
            "       'genre_Drama', 'genre_Thriller', 'genre_Action', 'genre_Animation',\n",
            "       'genre_Horror', 'genre_Documentary', 'genre_Adventure', 'genre_Crime',\n",
            "       'genre_Mystery', 'genre_Fantasy', 'genre_War', 'genre_SF',\n",
            "       'genre_Romance', 'genre_Music', 'genre_Western', 'genre_Family',\n",
            "       'genre_History', 'genre_Foreign', 'genre_TM', 'in_collection',\n",
            "       'has_tagline', 'release_year', 'release_month', 'release_day',\n",
            "       'release_wd', 'release_quarter'],\n",
            "      dtype='object')\n"
          ],
          "name": "stdout"
        }
      ]
    },
    {
      "cell_type": "code",
      "metadata": {
        "id": "-tGN4xHA2eUE",
        "colab": {
          "base_uri": "https://localhost:8080/",
          "height": 426
        },
        "outputId": "b928261d-9f56-44e1-9e23-70d9be524821"
      },
      "source": [
        "train_prepared"
      ],
      "execution_count": 33,
      "outputs": [
        {
          "output_type": "execute_result",
          "data": {
            "text/html": [
              "<div>\n",
              "<style scoped>\n",
              "    .dataframe tbody tr th:only-of-type {\n",
              "        vertical-align: middle;\n",
              "    }\n",
              "\n",
              "    .dataframe tbody tr th {\n",
              "        vertical-align: top;\n",
              "    }\n",
              "\n",
              "    .dataframe thead th {\n",
              "        text-align: right;\n",
              "    }\n",
              "</style>\n",
              "<table border=\"1\" class=\"dataframe\">\n",
              "  <thead>\n",
              "    <tr style=\"text-align: right;\">\n",
              "      <th></th>\n",
              "      <th>budget</th>\n",
              "      <th>homepage</th>\n",
              "      <th>popularity</th>\n",
              "      <th>runtime</th>\n",
              "      <th>genre_Comedy</th>\n",
              "      <th>genre_Drama</th>\n",
              "      <th>genre_Thriller</th>\n",
              "      <th>genre_Action</th>\n",
              "      <th>genre_Animation</th>\n",
              "      <th>genre_Horror</th>\n",
              "      <th>genre_Documentary</th>\n",
              "      <th>genre_Adventure</th>\n",
              "      <th>genre_Crime</th>\n",
              "      <th>genre_Mystery</th>\n",
              "      <th>genre_Fantasy</th>\n",
              "      <th>genre_War</th>\n",
              "      <th>genre_SF</th>\n",
              "      <th>genre_Romance</th>\n",
              "      <th>genre_Music</th>\n",
              "      <th>genre_Western</th>\n",
              "      <th>genre_Family</th>\n",
              "      <th>genre_History</th>\n",
              "      <th>genre_Foreign</th>\n",
              "      <th>genre_TM</th>\n",
              "      <th>in_collection</th>\n",
              "      <th>has_tagline</th>\n",
              "      <th>release_year</th>\n",
              "      <th>release_month</th>\n",
              "      <th>release_day</th>\n",
              "      <th>release_wd</th>\n",
              "      <th>release_quarter</th>\n",
              "    </tr>\n",
              "  </thead>\n",
              "  <tbody>\n",
              "    <tr>\n",
              "      <th>0</th>\n",
              "      <td>1601792</td>\n",
              "      <td>0</td>\n",
              "      <td>2.329513</td>\n",
              "      <td>96.0</td>\n",
              "      <td>0</td>\n",
              "      <td>1</td>\n",
              "      <td>0</td>\n",
              "      <td>0</td>\n",
              "      <td>0</td>\n",
              "      <td>0</td>\n",
              "      <td>0</td>\n",
              "      <td>0</td>\n",
              "      <td>0</td>\n",
              "      <td>0</td>\n",
              "      <td>0</td>\n",
              "      <td>0</td>\n",
              "      <td>0</td>\n",
              "      <td>0</td>\n",
              "      <td>0</td>\n",
              "      <td>0</td>\n",
              "      <td>0</td>\n",
              "      <td>0</td>\n",
              "      <td>0</td>\n",
              "      <td>0</td>\n",
              "      <td>0</td>\n",
              "      <td>0</td>\n",
              "      <td>2005</td>\n",
              "      <td>5</td>\n",
              "      <td>15</td>\n",
              "      <td>6</td>\n",
              "      <td>2</td>\n",
              "    </tr>\n",
              "    <tr>\n",
              "      <th>1</th>\n",
              "      <td>5000000</td>\n",
              "      <td>0</td>\n",
              "      <td>3.621052</td>\n",
              "      <td>116.0</td>\n",
              "      <td>1</td>\n",
              "      <td>0</td>\n",
              "      <td>1</td>\n",
              "      <td>0</td>\n",
              "      <td>0</td>\n",
              "      <td>0</td>\n",
              "      <td>0</td>\n",
              "      <td>0</td>\n",
              "      <td>1</td>\n",
              "      <td>1</td>\n",
              "      <td>0</td>\n",
              "      <td>0</td>\n",
              "      <td>0</td>\n",
              "      <td>0</td>\n",
              "      <td>0</td>\n",
              "      <td>0</td>\n",
              "      <td>0</td>\n",
              "      <td>0</td>\n",
              "      <td>0</td>\n",
              "      <td>0</td>\n",
              "      <td>0</td>\n",
              "      <td>1</td>\n",
              "      <td>1998</td>\n",
              "      <td>1</td>\n",
              "      <td>30</td>\n",
              "      <td>4</td>\n",
              "      <td>1</td>\n",
              "    </tr>\n",
              "    <tr>\n",
              "      <th>2</th>\n",
              "      <td>700000</td>\n",
              "      <td>0</td>\n",
              "      <td>11.118844</td>\n",
              "      <td>112.0</td>\n",
              "      <td>0</td>\n",
              "      <td>1</td>\n",
              "      <td>0</td>\n",
              "      <td>0</td>\n",
              "      <td>0</td>\n",
              "      <td>0</td>\n",
              "      <td>0</td>\n",
              "      <td>0</td>\n",
              "      <td>0</td>\n",
              "      <td>0</td>\n",
              "      <td>0</td>\n",
              "      <td>0</td>\n",
              "      <td>0</td>\n",
              "      <td>1</td>\n",
              "      <td>0</td>\n",
              "      <td>0</td>\n",
              "      <td>0</td>\n",
              "      <td>0</td>\n",
              "      <td>0</td>\n",
              "      <td>0</td>\n",
              "      <td>0</td>\n",
              "      <td>1</td>\n",
              "      <td>2032</td>\n",
              "      <td>5</td>\n",
              "      <td>25</td>\n",
              "      <td>1</td>\n",
              "      <td>2</td>\n",
              "    </tr>\n",
              "    <tr>\n",
              "      <th>3</th>\n",
              "      <td>0</td>\n",
              "      <td>0</td>\n",
              "      <td>1.051148</td>\n",
              "      <td>94.0</td>\n",
              "      <td>0</td>\n",
              "      <td>1</td>\n",
              "      <td>0</td>\n",
              "      <td>0</td>\n",
              "      <td>0</td>\n",
              "      <td>0</td>\n",
              "      <td>0</td>\n",
              "      <td>0</td>\n",
              "      <td>0</td>\n",
              "      <td>0</td>\n",
              "      <td>0</td>\n",
              "      <td>0</td>\n",
              "      <td>0</td>\n",
              "      <td>0</td>\n",
              "      <td>0</td>\n",
              "      <td>0</td>\n",
              "      <td>0</td>\n",
              "      <td>0</td>\n",
              "      <td>0</td>\n",
              "      <td>0</td>\n",
              "      <td>0</td>\n",
              "      <td>0</td>\n",
              "      <td>2013</td>\n",
              "      <td>9</td>\n",
              "      <td>6</td>\n",
              "      <td>4</td>\n",
              "      <td>3</td>\n",
              "    </tr>\n",
              "    <tr>\n",
              "      <th>4</th>\n",
              "      <td>0</td>\n",
              "      <td>1</td>\n",
              "      <td>11.069608</td>\n",
              "      <td>112.0</td>\n",
              "      <td>0</td>\n",
              "      <td>1</td>\n",
              "      <td>1</td>\n",
              "      <td>0</td>\n",
              "      <td>0</td>\n",
              "      <td>0</td>\n",
              "      <td>0</td>\n",
              "      <td>0</td>\n",
              "      <td>0</td>\n",
              "      <td>0</td>\n",
              "      <td>1</td>\n",
              "      <td>0</td>\n",
              "      <td>0</td>\n",
              "      <td>0</td>\n",
              "      <td>0</td>\n",
              "      <td>0</td>\n",
              "      <td>0</td>\n",
              "      <td>0</td>\n",
              "      <td>0</td>\n",
              "      <td>0</td>\n",
              "      <td>0</td>\n",
              "      <td>1</td>\n",
              "      <td>2009</td>\n",
              "      <td>9</td>\n",
              "      <td>9</td>\n",
              "      <td>2</td>\n",
              "      <td>3</td>\n",
              "    </tr>\n",
              "    <tr>\n",
              "      <th>...</th>\n",
              "      <td>...</td>\n",
              "      <td>...</td>\n",
              "      <td>...</td>\n",
              "      <td>...</td>\n",
              "      <td>...</td>\n",
              "      <td>...</td>\n",
              "      <td>...</td>\n",
              "      <td>...</td>\n",
              "      <td>...</td>\n",
              "      <td>...</td>\n",
              "      <td>...</td>\n",
              "      <td>...</td>\n",
              "      <td>...</td>\n",
              "      <td>...</td>\n",
              "      <td>...</td>\n",
              "      <td>...</td>\n",
              "      <td>...</td>\n",
              "      <td>...</td>\n",
              "      <td>...</td>\n",
              "      <td>...</td>\n",
              "      <td>...</td>\n",
              "      <td>...</td>\n",
              "      <td>...</td>\n",
              "      <td>...</td>\n",
              "      <td>...</td>\n",
              "      <td>...</td>\n",
              "      <td>...</td>\n",
              "      <td>...</td>\n",
              "      <td>...</td>\n",
              "      <td>...</td>\n",
              "      <td>...</td>\n",
              "    </tr>\n",
              "    <tr>\n",
              "      <th>2395</th>\n",
              "      <td>30000000</td>\n",
              "      <td>1</td>\n",
              "      <td>6.347850</td>\n",
              "      <td>105.0</td>\n",
              "      <td>1</td>\n",
              "      <td>0</td>\n",
              "      <td>0</td>\n",
              "      <td>1</td>\n",
              "      <td>0</td>\n",
              "      <td>0</td>\n",
              "      <td>0</td>\n",
              "      <td>1</td>\n",
              "      <td>0</td>\n",
              "      <td>0</td>\n",
              "      <td>0</td>\n",
              "      <td>0</td>\n",
              "      <td>0</td>\n",
              "      <td>0</td>\n",
              "      <td>0</td>\n",
              "      <td>0</td>\n",
              "      <td>0</td>\n",
              "      <td>0</td>\n",
              "      <td>0</td>\n",
              "      <td>0</td>\n",
              "      <td>0</td>\n",
              "      <td>1</td>\n",
              "      <td>1993</td>\n",
              "      <td>11</td>\n",
              "      <td>11</td>\n",
              "      <td>3</td>\n",
              "      <td>4</td>\n",
              "    </tr>\n",
              "    <tr>\n",
              "      <th>2396</th>\n",
              "      <td>0</td>\n",
              "      <td>0</td>\n",
              "      <td>7.872569</td>\n",
              "      <td>145.0</td>\n",
              "      <td>0</td>\n",
              "      <td>1</td>\n",
              "      <td>0</td>\n",
              "      <td>0</td>\n",
              "      <td>0</td>\n",
              "      <td>0</td>\n",
              "      <td>0</td>\n",
              "      <td>0</td>\n",
              "      <td>0</td>\n",
              "      <td>0</td>\n",
              "      <td>0</td>\n",
              "      <td>1</td>\n",
              "      <td>0</td>\n",
              "      <td>0</td>\n",
              "      <td>0</td>\n",
              "      <td>0</td>\n",
              "      <td>0</td>\n",
              "      <td>0</td>\n",
              "      <td>0</td>\n",
              "      <td>0</td>\n",
              "      <td>0</td>\n",
              "      <td>1</td>\n",
              "      <td>2069</td>\n",
              "      <td>9</td>\n",
              "      <td>10</td>\n",
              "      <td>1</td>\n",
              "      <td>3</td>\n",
              "    </tr>\n",
              "    <tr>\n",
              "      <th>2397</th>\n",
              "      <td>0</td>\n",
              "      <td>0</td>\n",
              "      <td>0.851599</td>\n",
              "      <td>75.0</td>\n",
              "      <td>0</td>\n",
              "      <td>0</td>\n",
              "      <td>0</td>\n",
              "      <td>0</td>\n",
              "      <td>1</td>\n",
              "      <td>0</td>\n",
              "      <td>0</td>\n",
              "      <td>0</td>\n",
              "      <td>0</td>\n",
              "      <td>0</td>\n",
              "      <td>0</td>\n",
              "      <td>0</td>\n",
              "      <td>0</td>\n",
              "      <td>0</td>\n",
              "      <td>0</td>\n",
              "      <td>0</td>\n",
              "      <td>1</td>\n",
              "      <td>0</td>\n",
              "      <td>0</td>\n",
              "      <td>0</td>\n",
              "      <td>0</td>\n",
              "      <td>1</td>\n",
              "      <td>2001</td>\n",
              "      <td>5</td>\n",
              "      <td>11</td>\n",
              "      <td>4</td>\n",
              "      <td>2</td>\n",
              "    </tr>\n",
              "    <tr>\n",
              "      <th>2398</th>\n",
              "      <td>19000000</td>\n",
              "      <td>0</td>\n",
              "      <td>6.701138</td>\n",
              "      <td>91.0</td>\n",
              "      <td>0</td>\n",
              "      <td>0</td>\n",
              "      <td>1</td>\n",
              "      <td>0</td>\n",
              "      <td>0</td>\n",
              "      <td>1</td>\n",
              "      <td>0</td>\n",
              "      <td>0</td>\n",
              "      <td>0</td>\n",
              "      <td>0</td>\n",
              "      <td>0</td>\n",
              "      <td>0</td>\n",
              "      <td>0</td>\n",
              "      <td>0</td>\n",
              "      <td>0</td>\n",
              "      <td>0</td>\n",
              "      <td>0</td>\n",
              "      <td>0</td>\n",
              "      <td>0</td>\n",
              "      <td>0</td>\n",
              "      <td>1</td>\n",
              "      <td>1</td>\n",
              "      <td>1986</td>\n",
              "      <td>5</td>\n",
              "      <td>23</td>\n",
              "      <td>4</td>\n",
              "      <td>2</td>\n",
              "    </tr>\n",
              "    <tr>\n",
              "      <th>2399</th>\n",
              "      <td>0</td>\n",
              "      <td>0</td>\n",
              "      <td>6.653254</td>\n",
              "      <td>96.0</td>\n",
              "      <td>1</td>\n",
              "      <td>0</td>\n",
              "      <td>0</td>\n",
              "      <td>0</td>\n",
              "      <td>0</td>\n",
              "      <td>0</td>\n",
              "      <td>0</td>\n",
              "      <td>0</td>\n",
              "      <td>0</td>\n",
              "      <td>0</td>\n",
              "      <td>0</td>\n",
              "      <td>0</td>\n",
              "      <td>0</td>\n",
              "      <td>1</td>\n",
              "      <td>0</td>\n",
              "      <td>0</td>\n",
              "      <td>0</td>\n",
              "      <td>0</td>\n",
              "      <td>0</td>\n",
              "      <td>0</td>\n",
              "      <td>1</td>\n",
              "      <td>1</td>\n",
              "      <td>2007</td>\n",
              "      <td>2</td>\n",
              "      <td>9</td>\n",
              "      <td>4</td>\n",
              "      <td>1</td>\n",
              "    </tr>\n",
              "  </tbody>\n",
              "</table>\n",
              "<p>2400 rows × 31 columns</p>\n",
              "</div>"
            ],
            "text/plain": [
              "        budget  homepage  popularity  ...  release_day  release_wd  release_quarter\n",
              "0      1601792         0    2.329513  ...           15           6                2\n",
              "1      5000000         0    3.621052  ...           30           4                1\n",
              "2       700000         0   11.118844  ...           25           1                2\n",
              "3            0         0    1.051148  ...            6           4                3\n",
              "4            0         1   11.069608  ...            9           2                3\n",
              "...        ...       ...         ...  ...          ...         ...              ...\n",
              "2395  30000000         1    6.347850  ...           11           3                4\n",
              "2396         0         0    7.872569  ...           10           1                3\n",
              "2397         0         0    0.851599  ...           11           4                2\n",
              "2398  19000000         0    6.701138  ...           23           4                2\n",
              "2399         0         0    6.653254  ...            9           4                1\n",
              "\n",
              "[2400 rows x 31 columns]"
            ]
          },
          "metadata": {
            "tags": []
          },
          "execution_count": 33
        }
      ]
    },
    {
      "cell_type": "code",
      "metadata": {
        "id": "7WxVuxT_ESJZ",
        "colab": {
          "base_uri": "https://localhost:8080/"
        },
        "outputId": "c7979152-7b58-45f7-8980-0089411c6deb"
      },
      "source": [
        "# Checking that we have no null-values\n",
        "train_prepared.isna().sum()"
      ],
      "execution_count": 34,
      "outputs": [
        {
          "output_type": "execute_result",
          "data": {
            "text/plain": [
              "budget               0\n",
              "homepage             0\n",
              "popularity           0\n",
              "runtime              0\n",
              "genre_Comedy         0\n",
              "genre_Drama          0\n",
              "genre_Thriller       0\n",
              "genre_Action         0\n",
              "genre_Animation      0\n",
              "genre_Horror         0\n",
              "genre_Documentary    0\n",
              "genre_Adventure      0\n",
              "genre_Crime          0\n",
              "genre_Mystery        0\n",
              "genre_Fantasy        0\n",
              "genre_War            0\n",
              "genre_SF             0\n",
              "genre_Romance        0\n",
              "genre_Music          0\n",
              "genre_Western        0\n",
              "genre_Family         0\n",
              "genre_History        0\n",
              "genre_Foreign        0\n",
              "genre_TM             0\n",
              "in_collection        0\n",
              "has_tagline          0\n",
              "release_year         0\n",
              "release_month        0\n",
              "release_day          0\n",
              "release_wd           0\n",
              "release_quarter      0\n",
              "dtype: int64"
            ]
          },
          "metadata": {
            "tags": []
          },
          "execution_count": 34
        }
      ]
    },
    {
      "cell_type": "markdown",
      "metadata": {
        "id": "_e9imZrpIQnT"
      },
      "source": [
        "---\n",
        "# **5 : Explore many different models and short-list the best ones**"
      ]
    },
    {
      "cell_type": "code",
      "metadata": {
        "id": "m1EiwynbeiTB"
      },
      "source": [
        "#Importing cross_val_score and mse used in evaluating of the algorithms\n",
        "from sklearn.model_selection import cross_val_score\n",
        "from sklearn.metrics import mean_squared_error\n",
        "\n",
        "#Making a function to display score value\n",
        "class displaySaver():\n",
        "    \n",
        "    def __init__(self):\n",
        "        self.methodsTested = np.array([\"Name\", \"Mean\", \"Standard deviation\", \"RMSE\"])\n",
        "        \n",
        "    def getMethods(self):\n",
        "        return pd.DataFrame(self.methodsTested)\n",
        "\n",
        "    def displayAdd_score(self, scores, name, rmse):\n",
        "        self.add_score(scores, name, rmse)\n",
        "        self.display_score(scores, name, rmse)\n",
        "        \n",
        "    def add_score(self, scores, name, rmse):\n",
        "        self.methodsTested = np.vstack([ self.methodsTested, [name, scores.mean(), scores.std(), rmse] ])\n",
        "        \n",
        "    def display_score(self, scores, name, rmse):\n",
        "        print(\"Method: \", name, \n",
        "              \"\\nScore on training set: \", rmse,\n",
        "              \"\\nScores: \", scores, \n",
        "              \"\\nMean: \", scores.mean(), \n",
        "              \"\\nStandard deviation: \", scores.std())\n",
        "    def min(self, num=3):\n",
        "      return pd.DataFrame(self.methodsTested[np.argsort(self.methodsTested[:,3])][:3])\n",
        "        \n",
        "d = displaySaver()\n",
        "train_labels = y_train"
      ],
      "execution_count": 35,
      "outputs": []
    },
    {
      "cell_type": "code",
      "metadata": {
        "id": "4vBv1fq1ekdj"
      },
      "source": [
        "#LinearRegression\n",
        "from sklearn.linear_model import LinearRegression\n",
        "lin_reg = LinearRegression()\n",
        "\n",
        "#Training lin_reg\n",
        "lin_reg.fit(train_prepared, train_labels) \n",
        "\n",
        "#Finding rmse\n",
        "train_pred = lin_reg.predict(train_prepared)\n",
        "lin_mse = mean_squared_error(train_labels, train_pred)\n",
        "lin_rmse = np.sqrt(lin_mse)\n",
        "\n",
        "#Finding cross_val_score\n",
        "scores = cross_val_score(lin_reg, train_prepared, train_labels, scoring=\"neg_mean_squared_error\", cv=10)\n",
        "lin_rmse_scores = np.sqrt(-scores)\n",
        "\n",
        "#Add result to d\n",
        "d.add_score(lin_rmse_scores, \"Linear Regression\", lin_rmse)"
      ],
      "execution_count": 36,
      "outputs": []
    },
    {
      "cell_type": "code",
      "metadata": {
        "id": "jalbZCFJgN-5"
      },
      "source": [
        "#DecisionTree\n",
        "from sklearn.tree import DecisionTreeRegressor\n",
        "tree_reg = DecisionTreeRegressor()\n",
        "\n",
        "#Training\n",
        "tree_reg.fit(train_prepared, train_labels) \n",
        "\n",
        "#Finding rmse\n",
        "tree_preds = tree_reg.predict(train_prepared)\n",
        "tree_mse = mean_squared_error(train_labels, tree_preds)\n",
        "tree_rmse = np.sqrt(tree_mse)\n",
        "\n",
        "#Finding cross_val_score\n",
        "scores = cross_val_score(tree_reg, train_prepared, train_labels, scoring=\"neg_mean_squared_error\", cv=10)\n",
        "tree_rmse_scores = np.sqrt(-scores)\n",
        "\n",
        "#Add result to d\n",
        "d.add_score(tree_rmse_scores,\"Decision Tree\", tree_rmse)"
      ],
      "execution_count": 37,
      "outputs": []
    },
    {
      "cell_type": "code",
      "metadata": {
        "id": "JE9ohOtcgeNO"
      },
      "source": [
        "#RandomForest\n",
        "from sklearn.ensemble import RandomForestRegressor\n",
        "forest_reg = RandomForestRegressor()\n",
        "\n",
        "#Training forest-regressor\n",
        "forest_reg.fit(train_prepared, train_labels)\n",
        "\n",
        "#Finding rmse\n",
        "forest_preds = forest_reg.predict(train_prepared)\n",
        "forest_mse = mean_squared_error(train_labels, forest_preds)\n",
        "forest_rmse = np.sqrt(forest_mse)\n",
        "\n",
        "#Finding cross-val-score\n",
        "scores = cross_val_score(forest_reg, train_prepared, train_labels, scoring=\"neg_mean_squared_error\", cv=10)\n",
        "forest_rmse_scores = np.sqrt(-scores)\n",
        "\n",
        "#Add result to d\n",
        "d.add_score(forest_rmse_scores, \"Random Forest\", forest_rmse)"
      ],
      "execution_count": 38,
      "outputs": []
    },
    {
      "cell_type": "code",
      "metadata": {
        "id": "QVdgBBZjghhS"
      },
      "source": [
        "#SVR using radial basis function-kernal\n",
        "from sklearn import svm\n",
        "svr_reg = svm.SVR()\n",
        "\n",
        "#Training svm\n",
        "svr_reg.fit(train_prepared, train_labels)\n",
        "\n",
        "#Finding rmse\n",
        "svr_preds = svr_reg.predict(train_prepared)\n",
        "svr_mse = mean_squared_error(train_labels, forest_preds)\n",
        "svr_rmse = np.sqrt(svr_mse)\n",
        "\n",
        "#Finding cross-val-score\n",
        "scores = cross_val_score(svr_reg, train_prepared, train_labels, scoring=\"neg_mean_squared_error\", cv=10)\n",
        "svr_rmse_scores = np.sqrt(-scores)\n",
        "\n",
        "#Add result to d\n",
        "d.add_score(svr_rmse_scores, \"SVR using rbf-kernal\", svr_rmse)"
      ],
      "execution_count": 39,
      "outputs": []
    },
    {
      "cell_type": "code",
      "metadata": {
        "id": "Lexs6zwegmS9"
      },
      "source": [
        "#SVR using poly-kernal\n",
        "svr_reg = svm.SVR(kernel='poly')\n",
        "\n",
        "#Training svm\n",
        "svr_reg.fit(train_prepared, train_labels)\n",
        "\n",
        "#Finding rmse\n",
        "svr_preds = svr_reg.predict(train_prepared)\n",
        "svr_mse = mean_squared_error(train_labels, forest_preds)\n",
        "svr_rmse = np.sqrt(svr_mse)\n",
        "\n",
        "#Finding cross-val-score\n",
        "scores = cross_val_score(svr_reg, train_prepared, train_labels, scoring=\"neg_mean_squared_error\", cv=10)\n",
        "svr_rmse_scores = np.sqrt(-scores)\n",
        "\n",
        "#Add result to d\n",
        "d.add_score(svr_rmse_scores, \"SVR using poly-kernal\", svr_rmse)"
      ],
      "execution_count": 40,
      "outputs": []
    },
    {
      "cell_type": "code",
      "metadata": {
        "id": "k5HyyX1igo47"
      },
      "source": [
        "#SVR using sigmoid-kernal\n",
        "svr_reg = svm.SVR(kernel='sigmoid')\n",
        "\n",
        "#Training svm\n",
        "svr_reg.fit(train_prepared, train_labels)\n",
        "\n",
        "#Finding rmse\n",
        "svr_preds = svr_reg.predict(train_prepared)\n",
        "svr_mse = mean_squared_error(train_labels, forest_preds)\n",
        "svr_rmse = np.sqrt(svr_mse)\n",
        "\n",
        "#Finding cross-val-score\n",
        "scores = cross_val_score(svr_reg, train_prepared, train_labels, scoring=\"neg_mean_squared_error\", cv=10)\n",
        "svr_rmse_scores = np.sqrt(-scores)\n",
        "\n",
        "#Add result to d\n",
        "d.add_score(svr_rmse_scores, \"SVR using sigmoid-kernal\", svr_rmse)"
      ],
      "execution_count": 41,
      "outputs": []
    },
    {
      "cell_type": "code",
      "metadata": {
        "id": "LQIJCHgFgqph"
      },
      "source": [
        "#NuSVR\n",
        "nuSvr_reg = svm.NuSVR()\n",
        "\n",
        "#Training NuSVR\n",
        "nuSvr_reg.fit(train_prepared, train_labels)\n",
        "\n",
        "#Finding rmse\n",
        "nuSvr_preds = nuSvr_reg.predict(train_prepared)\n",
        "nuSvr_mse = mean_squared_error(nuSvr_preds, train_labels)\n",
        "nuSvr_rmse = np.sqrt(nuSvr_mse)\n",
        "\n",
        "#Finding cross-val-score\n",
        "scores = cross_val_score(nuSvr_reg, train_prepared, train_labels, scoring=\"neg_mean_squared_error\", cv=10)\n",
        "nuSvr_rmse_scores = np.sqrt(-scores)\n",
        "\n",
        "#Add result to d\n",
        "d.add_score(nuSvr_rmse_scores, \"NuSVR\", nuSvr_rmse)"
      ],
      "execution_count": 42,
      "outputs": []
    },
    {
      "cell_type": "code",
      "metadata": {
        "id": "-3N1ehLygscd"
      },
      "source": [
        "#LinSVR\n",
        "linSvr_reg = svm.LinearSVR()\n",
        "\n",
        "#Training linearSVR\n",
        "linSvr_reg.fit(train_prepared, train_labels)\n",
        "\n",
        "#Finding rmse\n",
        "linSvr_pred = linSvr_reg.predict(train_prepared)\n",
        "linSvr_mse = mean_squared_error(linSvr_pred, train_labels)\n",
        "linSvr_rmse = np.sqrt(linSvr_mse)\n",
        "\n",
        "#Finding cross-val-score\n",
        "score = cross_val_score(linSvr_reg, train_prepared, train_labels, scoring=\"neg_mean_squared_error\", cv=10)\n",
        "linSvr_rmse_scores = np.sqrt(-scores)\n",
        "\n",
        "#Add result to d\n",
        "d.add_score(linSvr_rmse_scores, \"LinearSVR\", linSvr_rmse)"
      ],
      "execution_count": 43,
      "outputs": []
    },
    {
      "cell_type": "code",
      "metadata": {
        "id": "VbiZg6KHs-sQ",
        "colab": {
          "base_uri": "https://localhost:8080/",
          "height": 317
        },
        "outputId": "c1274c9e-6bbc-4b15-a15c-a35a5a2adf30"
      },
      "source": [
        "d.getMethods()"
      ],
      "execution_count": 44,
      "outputs": [
        {
          "output_type": "execute_result",
          "data": {
            "text/html": [
              "<div>\n",
              "<style scoped>\n",
              "    .dataframe tbody tr th:only-of-type {\n",
              "        vertical-align: middle;\n",
              "    }\n",
              "\n",
              "    .dataframe tbody tr th {\n",
              "        vertical-align: top;\n",
              "    }\n",
              "\n",
              "    .dataframe thead th {\n",
              "        text-align: right;\n",
              "    }\n",
              "</style>\n",
              "<table border=\"1\" class=\"dataframe\">\n",
              "  <thead>\n",
              "    <tr style=\"text-align: right;\">\n",
              "      <th></th>\n",
              "      <th>0</th>\n",
              "      <th>1</th>\n",
              "      <th>2</th>\n",
              "      <th>3</th>\n",
              "    </tr>\n",
              "  </thead>\n",
              "  <tbody>\n",
              "    <tr>\n",
              "      <th>0</th>\n",
              "      <td>Name</td>\n",
              "      <td>Mean</td>\n",
              "      <td>Standard deviation</td>\n",
              "      <td>RMSE</td>\n",
              "    </tr>\n",
              "    <tr>\n",
              "      <th>1</th>\n",
              "      <td>Linear Regression</td>\n",
              "      <td>81024165.52215704</td>\n",
              "      <td>16149633.26129551</td>\n",
              "      <td>80871366.67006582</td>\n",
              "    </tr>\n",
              "    <tr>\n",
              "      <th>2</th>\n",
              "      <td>Decision Tree</td>\n",
              "      <td>102866234.55292691</td>\n",
              "      <td>14358367.842967652</td>\n",
              "      <td>0.0</td>\n",
              "    </tr>\n",
              "    <tr>\n",
              "      <th>3</th>\n",
              "      <td>Random Forest</td>\n",
              "      <td>75038382.26911142</td>\n",
              "      <td>14549744.842635386</td>\n",
              "      <td>29119855.104858838</td>\n",
              "    </tr>\n",
              "    <tr>\n",
              "      <th>4</th>\n",
              "      <td>SVR using rbf-kernal</td>\n",
              "      <td>144677993.92535812</td>\n",
              "      <td>28456047.257986944</td>\n",
              "      <td>29119855.104858838</td>\n",
              "    </tr>\n",
              "    <tr>\n",
              "      <th>5</th>\n",
              "      <td>SVR using poly-kernal</td>\n",
              "      <td>144593919.5555288</td>\n",
              "      <td>28429460.490185976</td>\n",
              "      <td>29119855.104858838</td>\n",
              "    </tr>\n",
              "    <tr>\n",
              "      <th>6</th>\n",
              "      <td>SVR using sigmoid-kernal</td>\n",
              "      <td>144678008.7695709</td>\n",
              "      <td>28456038.782427575</td>\n",
              "      <td>29119855.104858838</td>\n",
              "    </tr>\n",
              "    <tr>\n",
              "      <th>7</th>\n",
              "      <td>NuSVR</td>\n",
              "      <td>139239256.21589926</td>\n",
              "      <td>28878761.70597626</td>\n",
              "      <td>142198509.54533872</td>\n",
              "    </tr>\n",
              "    <tr>\n",
              "      <th>8</th>\n",
              "      <td>LinearSVR</td>\n",
              "      <td>139239256.21589926</td>\n",
              "      <td>28878761.70597626</td>\n",
              "      <td>100997089.85081846</td>\n",
              "    </tr>\n",
              "  </tbody>\n",
              "</table>\n",
              "</div>"
            ],
            "text/plain": [
              "                          0  ...                   3\n",
              "0                      Name  ...                RMSE\n",
              "1         Linear Regression  ...   80871366.67006582\n",
              "2             Decision Tree  ...                 0.0\n",
              "3             Random Forest  ...  29119855.104858838\n",
              "4      SVR using rbf-kernal  ...  29119855.104858838\n",
              "5     SVR using poly-kernal  ...  29119855.104858838\n",
              "6  SVR using sigmoid-kernal  ...  29119855.104858838\n",
              "7                     NuSVR  ...  142198509.54533872\n",
              "8                 LinearSVR  ...  100997089.85081846\n",
              "\n",
              "[9 rows x 4 columns]"
            ]
          },
          "metadata": {
            "tags": []
          },
          "execution_count": 44
        }
      ]
    },
    {
      "cell_type": "markdown",
      "metadata": {
        "id": "53r8dveZ99Ix"
      },
      "source": [
        "### We see that Decision tree is overfitting, so we pick LinearSVR."
      ]
    },
    {
      "cell_type": "markdown",
      "metadata": {
        "id": "1H_tOJUItHP4"
      },
      "source": [
        "\n",
        "---\n",
        "# **6 : Fine-tune your models and combine them into a great solution**"
      ]
    },
    {
      "cell_type": "markdown",
      "metadata": {
        "id": "hDwyBOvE7hQP"
      },
      "source": [
        "To avoid having to manually change the hyperparameters and fit them on the training data we use gridsearch. This allows us to select the best params"
      ]
    },
    {
      "cell_type": "code",
      "metadata": {
        "id": "uTFspH7SNxug"
      },
      "source": [
        "from sklearn.model_selection import GridSearchCV\n",
        "\n",
        "param_grid = [{\n",
        "    'max_iter': [500, 600 ,700, 800], \n",
        "    'dual': [True, False], \n",
        "    'fit_intercept': [True, False], \n",
        "    'loss': ['epsilon_insensitive', 'squared_epsilon_insensitive'],\n",
        "    'intercept_scaling': [1.2, 1.5, 1.7] },]\n",
        "\n",
        "lin_svr = svm.LinearSVR()\n",
        "\n",
        "grid_search = GridSearchCV(\n",
        "    lin_svr, \n",
        "    param_grid, \n",
        "    cv=5, \n",
        "    scoring='neg_mean_squared_error', \n",
        "    return_train_score=True\n",
        "    )\n"
      ],
      "execution_count": 45,
      "outputs": []
    },
    {
      "cell_type": "code",
      "metadata": {
        "id": "RJQeScsvPeP1",
        "colab": {
          "base_uri": "https://localhost:8080/"
        },
        "outputId": "ab9eeb3e-454e-4a95-a442-40b124474ade"
      },
      "source": [
        "grid_search.fit(train_prepared, train_labels)"
      ],
      "execution_count": 46,
      "outputs": [
        {
          "output_type": "execute_result",
          "data": {
            "text/plain": [
              "GridSearchCV(cv=5, error_score=nan,\n",
              "             estimator=LinearSVR(C=1.0, dual=True, epsilon=0.0,\n",
              "                                 fit_intercept=True, intercept_scaling=1.0,\n",
              "                                 loss='epsilon_insensitive', max_iter=1000,\n",
              "                                 random_state=None, tol=0.0001, verbose=0),\n",
              "             iid='deprecated', n_jobs=None,\n",
              "             param_grid=[{'dual': [True, False], 'fit_intercept': [True, False],\n",
              "                          'intercept_scaling': [1.2, 1.5, 1.7],\n",
              "                          'loss': ['epsilon_insensitive',\n",
              "                                   'squared_epsilon_insensitive'],\n",
              "                          'max_iter': [500, 600, 700, 800]}],\n",
              "             pre_dispatch='2*n_jobs', refit=True, return_train_score=True,\n",
              "             scoring='neg_mean_squared_error', verbose=0)"
            ]
          },
          "metadata": {
            "tags": []
          },
          "execution_count": 46
        }
      ]
    },
    {
      "cell_type": "code",
      "metadata": {
        "colab": {
          "base_uri": "https://localhost:8080/"
        },
        "id": "QcI7FlSHE3Do",
        "outputId": "aaa631dc-9d7b-482c-874a-ecb391061992"
      },
      "source": [
        "grid_search.best_estimator_"
      ],
      "execution_count": 47,
      "outputs": [
        {
          "output_type": "execute_result",
          "data": {
            "text/plain": [
              "LinearSVR(C=1.0, dual=False, epsilon=0.0, fit_intercept=True,\n",
              "          intercept_scaling=1.2, loss='squared_epsilon_insensitive',\n",
              "          max_iter=500, random_state=None, tol=0.0001, verbose=0)"
            ]
          },
          "metadata": {
            "tags": []
          },
          "execution_count": 47
        }
      ]
    },
    {
      "cell_type": "code",
      "metadata": {
        "id": "5WlkGE7LE-Mp"
      },
      "source": [
        "#Use the result to run a new linSVR\n",
        "\n",
        "linSvr2 = svm.LinearSVR(C=1.0, dual=False, epsilon=0.0, fit_intercept=True,\n",
        "          intercept_scaling=1.5, loss='squared_epsilon_insensitive',\n",
        "          max_iter=500, random_state=None, tol=0.0001, verbose=0)\n",
        "\n",
        "#Training linearSVR2\n",
        "linSvr2.fit(train_prepared, train_labels)\n",
        "\n",
        "#Finding rmse\n",
        "linSvr2_pred = linSvr2.predict(train_prepared)\n",
        "linSvr2_mse = mean_squared_error(linSvr2_pred, train_labels)\n",
        "linSvr2_rmse = np.sqrt(linSvr2_mse)\n",
        "\n",
        "#Finding cross-val-score\n",
        "score = cross_val_score(linSvr2, train_prepared, train_labels, scoring=\"neg_mean_squared_error\", cv=10)\n",
        "linSvr2_rmse_scores = np.sqrt(-scores)\n",
        "\n",
        "#Add result to d\n",
        "d.add_score(linSvr2_rmse_scores, \"LinearSVR2\", linSvr2_rmse)"
      ],
      "execution_count": 48,
      "outputs": []
    },
    {
      "cell_type": "code",
      "metadata": {
        "colab": {
          "base_uri": "https://localhost:8080/",
          "height": 347
        },
        "id": "k3BcAVpjFdKd",
        "outputId": "ece6ba88-130c-436d-df39-3e3b5e3cc02f"
      },
      "source": [
        "d.getMethods()"
      ],
      "execution_count": 49,
      "outputs": [
        {
          "output_type": "execute_result",
          "data": {
            "text/html": [
              "<div>\n",
              "<style scoped>\n",
              "    .dataframe tbody tr th:only-of-type {\n",
              "        vertical-align: middle;\n",
              "    }\n",
              "\n",
              "    .dataframe tbody tr th {\n",
              "        vertical-align: top;\n",
              "    }\n",
              "\n",
              "    .dataframe thead th {\n",
              "        text-align: right;\n",
              "    }\n",
              "</style>\n",
              "<table border=\"1\" class=\"dataframe\">\n",
              "  <thead>\n",
              "    <tr style=\"text-align: right;\">\n",
              "      <th></th>\n",
              "      <th>0</th>\n",
              "      <th>1</th>\n",
              "      <th>2</th>\n",
              "      <th>3</th>\n",
              "    </tr>\n",
              "  </thead>\n",
              "  <tbody>\n",
              "    <tr>\n",
              "      <th>0</th>\n",
              "      <td>Name</td>\n",
              "      <td>Mean</td>\n",
              "      <td>Standard deviation</td>\n",
              "      <td>RMSE</td>\n",
              "    </tr>\n",
              "    <tr>\n",
              "      <th>1</th>\n",
              "      <td>Linear Regression</td>\n",
              "      <td>81024165.52215704</td>\n",
              "      <td>16149633.26129551</td>\n",
              "      <td>80871366.67006582</td>\n",
              "    </tr>\n",
              "    <tr>\n",
              "      <th>2</th>\n",
              "      <td>Decision Tree</td>\n",
              "      <td>102866234.55292691</td>\n",
              "      <td>14358367.842967652</td>\n",
              "      <td>0.0</td>\n",
              "    </tr>\n",
              "    <tr>\n",
              "      <th>3</th>\n",
              "      <td>Random Forest</td>\n",
              "      <td>75038382.26911142</td>\n",
              "      <td>14549744.842635386</td>\n",
              "      <td>29119855.104858838</td>\n",
              "    </tr>\n",
              "    <tr>\n",
              "      <th>4</th>\n",
              "      <td>SVR using rbf-kernal</td>\n",
              "      <td>144677993.92535812</td>\n",
              "      <td>28456047.257986944</td>\n",
              "      <td>29119855.104858838</td>\n",
              "    </tr>\n",
              "    <tr>\n",
              "      <th>5</th>\n",
              "      <td>SVR using poly-kernal</td>\n",
              "      <td>144593919.5555288</td>\n",
              "      <td>28429460.490185976</td>\n",
              "      <td>29119855.104858838</td>\n",
              "    </tr>\n",
              "    <tr>\n",
              "      <th>6</th>\n",
              "      <td>SVR using sigmoid-kernal</td>\n",
              "      <td>144678008.7695709</td>\n",
              "      <td>28456038.782427575</td>\n",
              "      <td>29119855.104858838</td>\n",
              "    </tr>\n",
              "    <tr>\n",
              "      <th>7</th>\n",
              "      <td>NuSVR</td>\n",
              "      <td>139239256.21589926</td>\n",
              "      <td>28878761.70597626</td>\n",
              "      <td>142198509.54533872</td>\n",
              "    </tr>\n",
              "    <tr>\n",
              "      <th>8</th>\n",
              "      <td>LinearSVR</td>\n",
              "      <td>139239256.21589926</td>\n",
              "      <td>28878761.70597626</td>\n",
              "      <td>100997089.85081846</td>\n",
              "    </tr>\n",
              "    <tr>\n",
              "      <th>9</th>\n",
              "      <td>LinearSVR2</td>\n",
              "      <td>139239256.21589926</td>\n",
              "      <td>28878761.70597626</td>\n",
              "      <td>92752871.71888205</td>\n",
              "    </tr>\n",
              "  </tbody>\n",
              "</table>\n",
              "</div>"
            ],
            "text/plain": [
              "                          0  ...                   3\n",
              "0                      Name  ...                RMSE\n",
              "1         Linear Regression  ...   80871366.67006582\n",
              "2             Decision Tree  ...                 0.0\n",
              "3             Random Forest  ...  29119855.104858838\n",
              "4      SVR using rbf-kernal  ...  29119855.104858838\n",
              "5     SVR using poly-kernal  ...  29119855.104858838\n",
              "6  SVR using sigmoid-kernal  ...  29119855.104858838\n",
              "7                     NuSVR  ...  142198509.54533872\n",
              "8                 LinearSVR  ...  100997089.85081846\n",
              "9                LinearSVR2  ...   92752871.71888205\n",
              "\n",
              "[10 rows x 4 columns]"
            ]
          },
          "metadata": {
            "tags": []
          },
          "execution_count": 49
        }
      ]
    },
    {
      "cell_type": "markdown",
      "metadata": {
        "id": "bvsssevlGBqt"
      },
      "source": [
        "We see that SVR2 has the same standard deviation, but a \n",
        "better RMSE.\n",
        "\n",
        "Now to check the test:"
      ]
    },
    {
      "cell_type": "code",
      "metadata": {
        "colab": {
          "base_uri": "https://localhost:8080/",
          "height": 537
        },
        "id": "x9CT2E8nMTeh",
        "outputId": "71e01c20-691d-4b67-8439-28fb14ac5221"
      },
      "source": [
        "X_test=test.drop(\"revenue\", axis=1)\n",
        "test_labels=test[\"revenue\"]\n",
        "test_prepared = prepData(X_test)\n",
        "\n",
        "\n",
        "linSvr2_pred = linSvr2.predict(test_prepared)\n",
        "linSvr2_mse = mean_squared_error(linSvr2_pred, test_labels)\n",
        "linSvr2_rmse = np.sqrt(linSvr2_mse)\n",
        "\n",
        "#Finding cross-val-score\n",
        "score = cross_val_score(linSvr2, test_prepared, test_labels, scoring=\"neg_mean_squared_error\", cv=10)\n",
        "linSvr2_rmse_scores = np.sqrt(-scores)\n",
        "\n",
        "#Add result to d\n",
        "d.add_score(linSvr2_rmse_scores, \"LinearSVR2-Test\", linSvr2_rmse)\n",
        "\n",
        "#Displaying methods\n",
        "d.getMethods()"
      ],
      "execution_count": 50,
      "outputs": [
        {
          "output_type": "stream",
          "text": [
            "Index(['budget', 'homepage', 'popularity', 'runtime', 'genre_Comedy',\n",
            "       'genre_Drama', 'genre_Thriller', 'genre_Action', 'genre_Animation',\n",
            "       'genre_Horror', 'genre_Documentary', 'genre_Adventure', 'genre_Crime',\n",
            "       'genre_Mystery', 'genre_Fantasy', 'genre_War', 'genre_SF',\n",
            "       'genre_Romance', 'genre_Music', 'genre_Western', 'genre_Family',\n",
            "       'genre_History', 'genre_Foreign', 'genre_TM', 'in_collection',\n",
            "       'has_tagline', 'release_year', 'release_month', 'release_day',\n",
            "       'release_wd', 'release_quarter'],\n",
            "      dtype='object')\n"
          ],
          "name": "stdout"
        },
        {
          "output_type": "execute_result",
          "data": {
            "text/html": [
              "<div>\n",
              "<style scoped>\n",
              "    .dataframe tbody tr th:only-of-type {\n",
              "        vertical-align: middle;\n",
              "    }\n",
              "\n",
              "    .dataframe tbody tr th {\n",
              "        vertical-align: top;\n",
              "    }\n",
              "\n",
              "    .dataframe thead th {\n",
              "        text-align: right;\n",
              "    }\n",
              "</style>\n",
              "<table border=\"1\" class=\"dataframe\">\n",
              "  <thead>\n",
              "    <tr style=\"text-align: right;\">\n",
              "      <th></th>\n",
              "      <th>0</th>\n",
              "      <th>1</th>\n",
              "      <th>2</th>\n",
              "      <th>3</th>\n",
              "    </tr>\n",
              "  </thead>\n",
              "  <tbody>\n",
              "    <tr>\n",
              "      <th>0</th>\n",
              "      <td>Name</td>\n",
              "      <td>Mean</td>\n",
              "      <td>Standard deviation</td>\n",
              "      <td>RMSE</td>\n",
              "    </tr>\n",
              "    <tr>\n",
              "      <th>1</th>\n",
              "      <td>Linear Regression</td>\n",
              "      <td>81024165.52215704</td>\n",
              "      <td>16149633.26129551</td>\n",
              "      <td>80871366.67006582</td>\n",
              "    </tr>\n",
              "    <tr>\n",
              "      <th>2</th>\n",
              "      <td>Decision Tree</td>\n",
              "      <td>102866234.55292691</td>\n",
              "      <td>14358367.842967652</td>\n",
              "      <td>0.0</td>\n",
              "    </tr>\n",
              "    <tr>\n",
              "      <th>3</th>\n",
              "      <td>Random Forest</td>\n",
              "      <td>75038382.26911142</td>\n",
              "      <td>14549744.842635386</td>\n",
              "      <td>29119855.104858838</td>\n",
              "    </tr>\n",
              "    <tr>\n",
              "      <th>4</th>\n",
              "      <td>SVR using rbf-kernal</td>\n",
              "      <td>144677993.92535812</td>\n",
              "      <td>28456047.257986944</td>\n",
              "      <td>29119855.104858838</td>\n",
              "    </tr>\n",
              "    <tr>\n",
              "      <th>5</th>\n",
              "      <td>SVR using poly-kernal</td>\n",
              "      <td>144593919.5555288</td>\n",
              "      <td>28429460.490185976</td>\n",
              "      <td>29119855.104858838</td>\n",
              "    </tr>\n",
              "    <tr>\n",
              "      <th>6</th>\n",
              "      <td>SVR using sigmoid-kernal</td>\n",
              "      <td>144678008.7695709</td>\n",
              "      <td>28456038.782427575</td>\n",
              "      <td>29119855.104858838</td>\n",
              "    </tr>\n",
              "    <tr>\n",
              "      <th>7</th>\n",
              "      <td>NuSVR</td>\n",
              "      <td>139239256.21589926</td>\n",
              "      <td>28878761.70597626</td>\n",
              "      <td>142198509.54533872</td>\n",
              "    </tr>\n",
              "    <tr>\n",
              "      <th>8</th>\n",
              "      <td>LinearSVR</td>\n",
              "      <td>139239256.21589926</td>\n",
              "      <td>28878761.70597626</td>\n",
              "      <td>100997089.85081846</td>\n",
              "    </tr>\n",
              "    <tr>\n",
              "      <th>9</th>\n",
              "      <td>LinearSVR2</td>\n",
              "      <td>139239256.21589926</td>\n",
              "      <td>28878761.70597626</td>\n",
              "      <td>92752871.71888205</td>\n",
              "    </tr>\n",
              "    <tr>\n",
              "      <th>10</th>\n",
              "      <td>LinearSVR2-Test</td>\n",
              "      <td>139239256.21589926</td>\n",
              "      <td>28878761.70597626</td>\n",
              "      <td>81121267.69546773</td>\n",
              "    </tr>\n",
              "  </tbody>\n",
              "</table>\n",
              "</div>"
            ],
            "text/plain": [
              "                           0  ...                   3\n",
              "0                       Name  ...                RMSE\n",
              "1          Linear Regression  ...   80871366.67006582\n",
              "2              Decision Tree  ...                 0.0\n",
              "3              Random Forest  ...  29119855.104858838\n",
              "4       SVR using rbf-kernal  ...  29119855.104858838\n",
              "5      SVR using poly-kernal  ...  29119855.104858838\n",
              "6   SVR using sigmoid-kernal  ...  29119855.104858838\n",
              "7                      NuSVR  ...  142198509.54533872\n",
              "8                  LinearSVR  ...  100997089.85081846\n",
              "9                 LinearSVR2  ...   92752871.71888205\n",
              "10           LinearSVR2-Test  ...   81121267.69546773\n",
              "\n",
              "[11 rows x 4 columns]"
            ]
          },
          "metadata": {
            "tags": []
          },
          "execution_count": 50
        }
      ]
    },
    {
      "cell_type": "markdown",
      "metadata": {
        "id": "ElGUUV4JNl8W"
      },
      "source": [
        "Wow. It actually runs better on the test set. We can rule out overfitting."
      ]
    },
    {
      "cell_type": "code",
      "metadata": {
        "colab": {
          "base_uri": "https://localhost:8080/"
        },
        "id": "N1KPc2n1NzBB",
        "outputId": "74161377-b3cf-4d4c-81a3-c7a9eded809a"
      },
      "source": [
        "#Testing for individual rows\n",
        "test_row = pd.DataFrame(test_prepared.iloc[0].values.reshape(1,-1))\n",
        "test_row.columns = test_prepared.columns\n",
        "\n",
        "test_row2 = pd.DataFrame(test_prepared.iloc[1].values.reshape(1,-1))\n",
        "test_row2.columns = test_prepared.columns\n",
        "\n",
        "print('test1: ', linSvr2.predict(test_row))\n",
        "print('test2: ', linSvr2.predict(test_row2))"
      ],
      "execution_count": 51,
      "outputs": [
        {
          "output_type": "stream",
          "text": [
            "test1:  [71295107.46015215]\n",
            "test2:  [2.05329909e+08]\n"
          ],
          "name": "stdout"
        }
      ]
    },
    {
      "cell_type": "code",
      "metadata": {
        "colab": {
          "base_uri": "https://localhost:8080/",
          "height": 97
        },
        "id": "BHCvoNuRSSLA",
        "outputId": "fdc5d6fb-055f-4112-9f22-149fcb1007a8"
      },
      "source": [
        "test_row2"
      ],
      "execution_count": 52,
      "outputs": [
        {
          "output_type": "execute_result",
          "data": {
            "text/html": [
              "<div>\n",
              "<style scoped>\n",
              "    .dataframe tbody tr th:only-of-type {\n",
              "        vertical-align: middle;\n",
              "    }\n",
              "\n",
              "    .dataframe tbody tr th {\n",
              "        vertical-align: top;\n",
              "    }\n",
              "\n",
              "    .dataframe thead th {\n",
              "        text-align: right;\n",
              "    }\n",
              "</style>\n",
              "<table border=\"1\" class=\"dataframe\">\n",
              "  <thead>\n",
              "    <tr style=\"text-align: right;\">\n",
              "      <th></th>\n",
              "      <th>budget</th>\n",
              "      <th>homepage</th>\n",
              "      <th>popularity</th>\n",
              "      <th>runtime</th>\n",
              "      <th>genre_Comedy</th>\n",
              "      <th>genre_Drama</th>\n",
              "      <th>genre_Thriller</th>\n",
              "      <th>genre_Action</th>\n",
              "      <th>genre_Animation</th>\n",
              "      <th>genre_Horror</th>\n",
              "      <th>genre_Documentary</th>\n",
              "      <th>genre_Adventure</th>\n",
              "      <th>genre_Crime</th>\n",
              "      <th>genre_Mystery</th>\n",
              "      <th>genre_Fantasy</th>\n",
              "      <th>genre_War</th>\n",
              "      <th>genre_SF</th>\n",
              "      <th>genre_Romance</th>\n",
              "      <th>genre_Music</th>\n",
              "      <th>genre_Western</th>\n",
              "      <th>genre_Family</th>\n",
              "      <th>genre_History</th>\n",
              "      <th>genre_Foreign</th>\n",
              "      <th>genre_TM</th>\n",
              "      <th>in_collection</th>\n",
              "      <th>has_tagline</th>\n",
              "      <th>release_year</th>\n",
              "      <th>release_month</th>\n",
              "      <th>release_day</th>\n",
              "      <th>release_wd</th>\n",
              "      <th>release_quarter</th>\n",
              "    </tr>\n",
              "  </thead>\n",
              "  <tbody>\n",
              "    <tr>\n",
              "      <th>0</th>\n",
              "      <td>72000000.0</td>\n",
              "      <td>0.0</td>\n",
              "      <td>11.211568</td>\n",
              "      <td>106.0</td>\n",
              "      <td>0.0</td>\n",
              "      <td>1.0</td>\n",
              "      <td>1.0</td>\n",
              "      <td>0.0</td>\n",
              "      <td>0.0</td>\n",
              "      <td>0.0</td>\n",
              "      <td>0.0</td>\n",
              "      <td>0.0</td>\n",
              "      <td>0.0</td>\n",
              "      <td>1.0</td>\n",
              "      <td>0.0</td>\n",
              "      <td>0.0</td>\n",
              "      <td>1.0</td>\n",
              "      <td>0.0</td>\n",
              "      <td>0.0</td>\n",
              "      <td>0.0</td>\n",
              "      <td>0.0</td>\n",
              "      <td>0.0</td>\n",
              "      <td>0.0</td>\n",
              "      <td>0.0</td>\n",
              "      <td>0.0</td>\n",
              "      <td>1.0</td>\n",
              "      <td>2002.0</td>\n",
              "      <td>8.0</td>\n",
              "      <td>2.0</td>\n",
              "      <td>4.0</td>\n",
              "      <td>3.0</td>\n",
              "    </tr>\n",
              "  </tbody>\n",
              "</table>\n",
              "</div>"
            ],
            "text/plain": [
              "       budget  homepage  popularity  ...  release_day  release_wd  release_quarter\n",
              "0  72000000.0       0.0   11.211568  ...          2.0         4.0              3.0\n",
              "\n",
              "[1 rows x 31 columns]"
            ]
          },
          "metadata": {
            "tags": []
          },
          "execution_count": 52
        }
      ]
    },
    {
      "cell_type": "markdown",
      "metadata": {
        "id": "5j6paNB5RPD5"
      },
      "source": [
        "Seems to work. Nice."
      ]
    },
    {
      "cell_type": "code",
      "metadata": {
        "id": "n5yTcwLjHfp6"
      },
      "source": [
        "# Export\n",
        "#from joblib import dump\n",
        "#dump(linSvr2, 'LinSVR.joblib')"
      ],
      "execution_count": 53,
      "outputs": []
    },
    {
      "cell_type": "markdown",
      "metadata": {
        "id": "FHu_t1GytMEp"
      },
      "source": [
        "---\n",
        "###**(Step 7 and 8, presentation and launching, will be done through flask and a video.)**"
      ]
    }
  ]
}